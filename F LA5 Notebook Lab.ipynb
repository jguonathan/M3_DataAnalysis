import json
import os

notebook_content = {
 "cells": [
  {
   "cell_type": "markdown",
   "metadata": {},
   "source": [
    "# LA5 Notebook Lab  \n",
    "** **  \n",
    "\n",
    "---"
   ]
  },
  {
   "cell_type": "markdown",
   "metadata": {},
   "source": [
    "## Task 1: Typeset Equations from Bramer Appendix A  \n",
    "\n",
    "### Logarithm Properties  \n",
    "The following are fundamental properties of logarithms:  \n",
    "\n",
    "1. \\( \\log_b(xy) = \\log_b(x) + \\log_b(y) \\)  \n",
    "2. \\( \\log_b\\left(\\frac{x}{y}\\right) = \\log_b(x) - \\log_b(y) \\)  \n",
    "3. \\( \\log_b(x^n) = n \\log_b(x) \\)  \n",
    "4. \\( \\log_b(1) = 0 \\)  \n",
    "5. \\( \\log_b(b) = 1 \\)  \n",
    "6. \\( \\log_b(b^n) = n \\)  \n",
    "7. \\( b^{\\log_b(x)} = x \\)  \n",
    "\n",
    "### Double Subscript Notation  \n",
    "Double subscript notation is often used to denote elements in a matrix or sequence:  \n",
    "\n",
    "\\[\n",
    "a_{ij} \\quad \\text{where } i \\text{ is the row index and } j \\text{ is the column index}\n",
    "\\]\n",
    "\n",
    "Source: [Bramer, M. (2013). *Principles of Data Mining*. Springer.](https://www.amazon.com/Principles-Data-Mining-Max-Bramer/dp/1447148838)"
   ]
  },
  {
   "cell_type": "markdown",
   "metadata": {},
   "source": [
    "## Task 2: Mean Formula and Implementation  \n",
    "\n",
    "### Formula for Mean  \n",
    "The mean of a sequence of numbers \\( a = [a_1, a_2, \\dots, a_n] \\) is given by:  \n",
    "\n",
    "\\[\n",
    "\\text{mean}(a) = \\frac{1}{n} \\sum_{i=1}^{n} a_i\n",
    "\\]\n",
    "\n",
    "### Code Implementation"
   ]
  },
  {
   "cell_type": "code",
   "execution_count": None,
   "metadata": {},
   "outputs": [],
   "source": [
    "import random\n",
    "\n",
    "def mean(numbers):\n",
    "    return sum(numbers) / len(numbers)\n",
    "\n",
    "# Generate two lists of 100 random numbers\n",
    "list1 = [random.randint(1, 100) for _ in range(100)]\n",
    "list2 = [random.uniform(1.0, 100.0) for _ in range(100)]\n",
    "\n",
    "# Calculate means\n",
    "mean1 = mean(list1)\n",
    "mean2 = mean(list2)\n",
    "\n",
    "print(f\"Mean of list1 (integers): {mean1:.2f}\")\n",
    "print(f\"Mean of list2 (floats): {mean2:.2f}\")"
   ]
  },
  {
   "cell_type": "markdown",
   "metadata": {},
   "source": [
    "## Task 3: Humorous Image Related to Data Science  \n",
    "\n",
    "![Data Science Meme](https://miro.medium.com/v2/resize:fit:1400/1*6v6lGy8V4k1v3h2UjqHZJg.png)\n",
    "\n",
    "**Why it's relevant:**  \n",
    "This meme humorously captures the reality that a significant portion of a data scientist's time is spent on data cleaning and preparation rather than building fancy models. It highlights the often-underestimated effort required to get data into a usable state before any meaningful analysis can begin."
   ]
  }
 ],
 "metadata": {
  "kernelspec": {
   "display_name": "Python 3 (ipykernel)",
   "language": "python",
   "name": "python3"
  },
  "language_info": {
   "codemirror_mode": {
    "name": "ipython",
    "version": 3
   },
   "file_extension": ".py",
   "mimetype": "text/x-python",
   "name": "python",
   "nbconvert_exporter": "python",
   "pygments_lexer": "ipython3",
   "version": "3.13.5"
  }
 },
 "nbformat": 4,
 "nbformat_minor": 4
}

home_dir = os.path.expanduser("~")
file_path = os.path.join(home_dir, "NotebookLab.ipynb")

try:
    with open(file_path, 'w', encoding='utf-8') as f:
        json.dump(notebook_content, f, indent=2, ensure_ascii=False)
    print(f"NotebookLab.ipynb 文件已成功创建在: {file_path}")
except Exception as e:
    print(f"fail to create a folder: {e}")
    print("\\nNotebookLab.ipynb:")
    print(json.dumps(notebook_content, indent=2, ensure_ascii=False))
